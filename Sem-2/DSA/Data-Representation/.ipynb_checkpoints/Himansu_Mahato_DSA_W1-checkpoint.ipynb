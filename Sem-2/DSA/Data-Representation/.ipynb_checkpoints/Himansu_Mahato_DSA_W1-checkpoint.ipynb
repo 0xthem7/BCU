{
 "cells": [
  {
   "cell_type": "markdown",
   "metadata": {
    "id": "v7GLUVYUW9Ls"
   },
   "source": [
    "# Data Structures and Algorithms W1 Lab 1\n",
    "Data Respresentations - Binary and Decimal conversion"
   ]
  },
  {
   "cell_type": "code",
   "execution_count": 2,
   "metadata": {
    "executionInfo": {
     "elapsed": 4,
     "status": "ok",
     "timestamp": 1689470563142,
     "user": {
      "displayName": "the m7",
      "userId": "10965310154478239678"
     },
     "user_tz": -345
    },
    "id": "opZ_A9krW5Y6"
   },
   "outputs": [],
   "source": [
    "# These functions operate on an 8-bit binary representation of an integer.\n",
    "# An integer is represented as a tuple of 8 bits, from highest-order to lowest-order.\n",
    "#\n",
    "# Suppose the binary tuples s,t represent the native python ints m,n respectively.\n",
    "#\n",
    "# - encode(n) returns t.\n",
    "# - decode(t) returns n.\n",
    "# - increment(t) returns a binary tuple representing n+1.\n",
    "# - decrement(t) returns a binary tuple representing n-1.\n",
    "# - add(s, t) returns a binary tuple representing m+n.\n",
    "# - subtract(s, t) returns a binary tuple representing m-n.\n"
   ]
  },
  {
   "cell_type": "markdown",
   "metadata": {
    "id": "1798I7QXYGkq"
   },
   "source": [
    "Recall that # means a comment in Python so won't do anything. You NEED to add these for almost EVERY line of code to say what you've done and why. The code here is commented well. Not all exercises will have fully commented code so you need to add the relevant comments and explanations in code and using these text boxes."
   ]
  },
  {
   "cell_type": "code",
   "execution_count": 1,
   "metadata": {
    "executionInfo": {
     "elapsed": 5,
     "status": "ok",
     "timestamp": 1689470568393,
     "user": {
      "displayName": "the m7",
      "userId": "10965310154478239678"
     },
     "user_tz": -345
    },
    "id": "RnB45LwYXlqG"
   },
   "outputs": [],
   "source": [
    "# encoding function - recall that def *** creates a function called *** that can be called later on\n",
    "def encode(native_int):\n",
    "\t# force native_int into the range 0-255\n",
    "\tnative_int %= 256\n",
    "\n",
    "\t# initialise result to all zero bits\n",
    "\tresult = [0, 0, 0, 0, 0, 0, 0, 0]\n",
    "\n",
    "\t# initialise value of highest-order bit (128)\n",
    "\tvalue = 2 ** 7\n",
    "\n",
    "\t# for each bit, from left to right\n",
    "\tfor i in range(8):\n",
    "\t\t# check if this bit should be set\n",
    "\t\tif native_int >= value:\n",
    "\t\t\t# set this bit to 1 in the result\n",
    "\t\t\tresult[i] = 1\n",
    "\n",
    "\t\t\t# decrease native_int by the bit's value\n",
    "\t\t\tnative_int -= value\n",
    "\n",
    "\t\t# change to value of next-lower bit\n",
    "\t\tvalue //= 2\n",
    "\n",
    "\t# convert from list to tuple\n",
    "\treturn tuple(result)\n"
   ]
  },
  {
   "cell_type": "markdown",
   "metadata": {
    "id": "VEs66wRDZrn4"
   },
   "source": [
    "Let's try doing some coding to use the function. Try using the encode() function to convert 42 to binary in the following cell:"
   ]
  },
  {
   "cell_type": "code",
   "execution_count": 2,
   "metadata": {
    "colab": {
     "base_uri": "https://localhost:8080/"
    },
    "executionInfo": {
     "elapsed": 4,
     "status": "ok",
     "timestamp": 1689470572373,
     "user": {
      "displayName": "the m7",
      "userId": "10965310154478239678"
     },
     "user_tz": -345
    },
    "id": "zVnAVukQZ2jx",
    "outputId": "61320efe-5f6f-428d-fe57-07e6ee5079ad"
   },
   "outputs": [
    {
     "name": "stdout",
     "output_type": "stream",
     "text": [
      "(0, 0, 1, 0, 1, 0, 1, 0)\n"
     ]
    }
   ],
   "source": [
    "# Do the conversion\n",
    "bin = encode(42)\n",
    "# Print it out\n",
    "print(bin)"
   ]
  },
  {
   "cell_type": "markdown",
   "metadata": {
    "id": "Zo-V4UM5aEjP"
   },
   "source": [
    "So we've got our code now for this simple example. Try converting 57 yourself now:"
   ]
  },
  {
   "cell_type": "code",
   "execution_count": 3,
   "metadata": {
    "colab": {
     "base_uri": "https://localhost:8080/"
    },
    "executionInfo": {
     "elapsed": 404,
     "status": "ok",
     "timestamp": 1689470599004,
     "user": {
      "displayName": "the m7",
      "userId": "10965310154478239678"
     },
     "user_tz": -345
    },
    "id": "iwrKeGv6aSh6",
    "outputId": "378d7096-bca0-4622-de3e-b3c2e7e260cd"
   },
   "outputs": [
    {
     "name": "stdout",
     "output_type": "stream",
     "text": [
      "(0, 0, 1, 0, 1, 0, 1, 0)\n"
     ]
    }
   ],
   "source": [
    "# Put your code and comments here:\n",
    "bin = encode(42)\n",
    "print(bin)"
   ]
  },
  {
   "cell_type": "code",
   "execution_count": 4,
   "metadata": {
    "executionInfo": {
     "elapsed": 4,
     "status": "ok",
     "timestamp": 1689470602899,
     "user": {
      "displayName": "the m7",
      "userId": "10965310154478239678"
     },
     "user_tz": -345
    },
    "id": "3V0kfwV0Xqrl"
   },
   "outputs": [],
   "source": [
    "# function to decode a binary number back to a decimal\n",
    "def decode(binary_tuple):\n",
    "\t# intialise result to 0\n",
    "\tresult = 0\n",
    "\n",
    "\t# initialise value of highest-order bit (128)\n",
    "\tvalue = 2 ** 7\n",
    "\n",
    "\t# for each bit, from left to right\n",
    "\tfor bit in binary_tuple:\n",
    "\t\t# if this bit should be set, add its value onto the result\n",
    "\t\tif bit == 1:\n",
    "\t\t\tresult += value\n",
    "\n",
    "\t\t# change to value of next-lower bit\n",
    "\t\tvalue //= 2\n",
    "\n",
    "\treturn result\n"
   ]
  },
  {
   "cell_type": "markdown",
   "metadata": {
    "id": "-eQmdnkPadWT"
   },
   "source": [
    "Let's check if our encoding of 42 was correct:"
   ]
  },
  {
   "cell_type": "code",
   "execution_count": 5,
   "metadata": {
    "colab": {
     "base_uri": "https://localhost:8080/"
    },
    "executionInfo": {
     "elapsed": 383,
     "status": "ok",
     "timestamp": 1689470605844,
     "user": {
      "displayName": "the m7",
      "userId": "10965310154478239678"
     },
     "user_tz": -345
    },
    "id": "jIICkVdOaocx",
    "outputId": "ceb39156-af15-49e4-939a-aa7ee14cf5e2"
   },
   "outputs": [
    {
     "name": "stdout",
     "output_type": "stream",
     "text": [
      "42\n"
     ]
    }
   ],
   "source": [
    "dec = decode(tuple([0,0,1,0,1,0,1,0]))\n",
    "print(dec)"
   ]
  },
  {
   "cell_type": "markdown",
   "metadata": {
    "id": "v6yCr01Oa4QX"
   },
   "source": [
    "So this means our encoding of 42 matches the decoded version. Now check if your encoding of 57 was correct:"
   ]
  },
  {
   "cell_type": "code",
   "execution_count": 6,
   "metadata": {
    "colab": {
     "base_uri": "https://localhost:8080/"
    },
    "executionInfo": {
     "elapsed": 414,
     "status": "ok",
     "timestamp": 1689470636705,
     "user": {
      "displayName": "the m7",
      "userId": "10965310154478239678"
     },
     "user_tz": -345
    },
    "id": "WpYyuKY7aoSk",
    "outputId": "66062dbd-f8ed-4200-b0fa-ae29cc5f9e0a"
   },
   "outputs": [
    {
     "name": "stdout",
     "output_type": "stream",
     "text": [
      "57\n"
     ]
    }
   ],
   "source": [
    "# encode 57 again into a variable and then decode, print it and see if it's working correctly.\n",
    "dec = decode(encode(57))\n",
    "print(dec)"
   ]
  },
  {
   "cell_type": "markdown",
   "metadata": {
    "id": "wev9P6_KiV9b"
   },
   "source": [
    "# Incrementing and decrementing binary numbers"
   ]
  },
  {
   "cell_type": "code",
   "execution_count": 9,
   "metadata": {
    "executionInfo": {
     "elapsed": 504,
     "status": "ok",
     "timestamp": 1689470655534,
     "user": {
      "displayName": "the m7",
      "userId": "10965310154478239678"
     },
     "user_tz": -345
    },
    "id": "3cq9POzbXzLP"
   },
   "outputs": [],
   "source": [
    "# function to increment a binary number by 1\n",
    "def increment(a):\n",
    "\t# convert from tuple to list\n",
    "\tresult = list(a)\n",
    "\n",
    "\t# for each bit, from right to left\n",
    "\tfor i in reversed(range(8)):\n",
    "\t\t# if this bit is 0, change to 1 and stop\n",
    "\t\tif result[i] == 0:\n",
    "\t\t\tresult[i] = 1\n",
    "\t\t\tbreak\n",
    "\t\t# if this bit is 1, change to 0 and move left\n",
    "\t\telse:\n",
    "\t\t\tresult[i] = 0\n",
    "\n",
    "\t# convert from list to tuple\n",
    "\treturn tuple(result)"
   ]
  },
  {
   "cell_type": "code",
   "execution_count": 10,
   "metadata": {
    "colab": {
     "base_uri": "https://localhost:8080/"
    },
    "executionInfo": {
     "elapsed": 560,
     "status": "ok",
     "timestamp": 1689470659735,
     "user": {
      "displayName": "the m7",
      "userId": "10965310154478239678"
     },
     "user_tz": -345
    },
    "id": "rdhfXwi3bqvM",
    "outputId": "a13bee26-045b-4ca2-c817-890799ee7bc4"
   },
   "outputs": [
    {
     "name": "stdout",
     "output_type": "stream",
     "text": [
      "Increment of 12:\n",
      "(0, 0, 0, 0, 1, 1, 0, 1)\n",
      "\n",
      "Decoding of incremented value:\n",
      "13\n"
     ]
    }
   ],
   "source": [
    "print('Increment of 12:')\n",
    "val = encode(12)\n",
    "print(increment(val))\n",
    "print('\\nDecoding of incremented value:') #\\n adds a linebreak\n",
    "print(decode(increment(val)))"
   ]
  },
  {
   "cell_type": "markdown",
   "metadata": {
    "id": "aMDfYEw1bqkB"
   },
   "source": [
    "Try incrementing the binary conversion of 57 and check it has worked by decoding it."
   ]
  },
  {
   "cell_type": "code",
   "execution_count": 13,
   "metadata": {
    "colab": {
     "base_uri": "https://localhost:8080/"
    },
    "executionInfo": {
     "elapsed": 377,
     "status": "ok",
     "timestamp": 1689470720428,
     "user": {
      "displayName": "the m7",
      "userId": "10965310154478239678"
     },
     "user_tz": -345
    },
    "id": "0w-kuwCYbqSk",
    "outputId": "f4a1b5fd-bd7b-43de-f292-0c1e10386508"
   },
   "outputs": [
    {
     "name": "stdout",
     "output_type": "stream",
     "text": [
      "Increment of 57: \n",
      "(0, 0, 1, 1, 1, 0, 1, 0)\n",
      "\n",
      "Decoding of incremented value:\n",
      "58\n"
     ]
    }
   ],
   "source": [
    "# Put your code here:\n",
    "print('Increment of 57: ')\n",
    "print(increment(encode(57)))\n",
    "print('\\nDecoding of incremented value:')\n",
    "print(decode(encode(58)))"
   ]
  },
  {
   "cell_type": "code",
   "execution_count": 14,
   "metadata": {
    "executionInfo": {
     "elapsed": 4,
     "status": "ok",
     "timestamp": 1689470723721,
     "user": {
      "displayName": "the m7",
      "userId": "10965310154478239678"
     },
     "user_tz": -345
    },
    "id": "w1P7KGfyX5S9"
   },
   "outputs": [],
   "source": [
    "# function to decement (subtract 1) from a binary number.\n",
    "def decrement(a):\n",
    "\t# convert from tuple to list\n",
    "\tresult = list(a)\n",
    "\n",
    "\t# for each bit, from right to left\n",
    "\tfor i in reversed(range(8)):\n",
    "\t\t# if this bit is 1, change to 0 and stop\n",
    "\t\tif result[i] == 1:\n",
    "\t\t\tresult[i] = 0\n",
    "\t\t\tbreak\n",
    "\t\t# if this bit is 0, change to 1 and move left\n",
    "\t\telse:\n",
    "\t\t\tresult[i] = 1\n",
    "\n",
    "\t# convert from list to tuple\n",
    "\treturn tuple(result)\n"
   ]
  },
  {
   "cell_type": "code",
   "execution_count": 15,
   "metadata": {
    "colab": {
     "base_uri": "https://localhost:8080/"
    },
    "executionInfo": {
     "elapsed": 842,
     "status": "ok",
     "timestamp": 1689470727115,
     "user": {
      "displayName": "the m7",
      "userId": "10965310154478239678"
     },
     "user_tz": -345
    },
    "id": "cBrqzeeCigY5",
    "outputId": "73005542-5276-44b2-f564-02c01d245d72"
   },
   "outputs": [
    {
     "name": "stdout",
     "output_type": "stream",
     "text": [
      "57\n"
     ]
    }
   ],
   "source": [
    "# Try decrementing an incremented number and decode it to check all functions are working together.\n",
    "print(decode(decrement(increment(encode(57)))))"
   ]
  },
  {
   "cell_type": "markdown",
   "metadata": {
    "id": "_FmbuGEXipOv"
   },
   "source": [
    "# Adding and Subtracting Numbers"
   ]
  },
  {
   "cell_type": "markdown",
   "metadata": {
    "id": "DgBLLkbCkvaU"
   },
   "source": [
    "The following functions add and subtract two binary numbers."
   ]
  },
  {
   "cell_type": "code",
   "execution_count": 19,
   "metadata": {
    "executionInfo": {
     "elapsed": 728,
     "status": "ok",
     "timestamp": 1689470838835,
     "user": {
      "displayName": "the m7",
      "userId": "10965310154478239678"
     },
     "user_tz": -345
    },
    "id": "IE67KvSqX9Ym"
   },
   "outputs": [],
   "source": [
    "# Function to add two binary numbers together\n",
    "def add(a, b):\n",
    "\t# initialise result to all zero bits\n",
    "\tresult = [0, 0, 0, 0, 0, 0, 0, 0]\n",
    "\n",
    "\t# initialise carry bit to 0\n",
    "\tcarry = 0\n",
    "\n",
    "\t# for each bit, from right to left\n",
    "\tfor i in reversed(range(8)):\n",
    "\t\t# add the values for these two bits, including the carry bit\n",
    "\n",
    "\t\t# update the result with the 1s bit of the addition\n",
    "\t\t# 1 if an odd number of a[i], b[i] and carry are 1\n",
    "\t\tresult[i] = a[i] ^ b[i] ^ carry\n",
    "\n",
    "\t\t# update the carry bit with the 2s bit of the addition\n",
    "\t\t# 1 if at least two of a[i], b[i] and carry are 1\n",
    "\t\tcarry = (a[i] & b[i]) | (a[i] & carry) | (b[i] & carry)\n",
    "\n",
    "\t# convert from list to tuple\n",
    "\treturn tuple(result)\n",
    "\n",
    "def subtract(a, b):\n",
    "\t# initialise result to all zero bits\n",
    "\tresult = [0, 0, 0, 0, 0, 0, 0, 0]\n",
    "\n",
    "\t# initialise carry bit to 0\n",
    "\tcarry = 0\n",
    "\n",
    "\t# for each bit, from right to left\n",
    "\tfor i in reversed(range(8)):\n",
    "\t\t# subtract the values for these two bits, including the carry bit\n",
    "\n",
    "\t\t# update the result with the 1s bit of the subtraction\n",
    "\t\t# 1 if an odd number of a[i], b[i] and carry are 1\n",
    "\t\tresult[i] = a[i] ^ b[i] ^ carry\n",
    "\n",
    "\t\t# update the carry bit with the 2s bit of the subtraction\n",
    "\t\t# 1 if a[i] is 0 and one of b[i] or carry are 1, or if both b[i] and carry are 1\n",
    "\t\tcarry = (~a[i] & b[i]) | (~a[i] & carry) | (b[i] & carry)\n",
    "\n",
    "\t# convert from list to tuple\n",
    "\treturn tuple(result)"
   ]
  },
  {
   "cell_type": "code",
   "execution_count": 17,
   "metadata": {
    "colab": {
     "base_uri": "https://localhost:8080/"
    },
    "executionInfo": {
     "elapsed": 392,
     "status": "ok",
     "timestamp": 1689470741212,
     "user": {
      "displayName": "the m7",
      "userId": "10965310154478239678"
     },
     "user_tz": -345
    },
    "id": "8jxwmNQvYAk-",
    "outputId": "acb28b30-8424-43b4-ed36-7377298f0fba"
   },
   "outputs": [
    {
     "name": "stdout",
     "output_type": "stream",
     "text": [
      "Binary number for 5 + 13:\n",
      "(0, 0, 0, 1, 0, 0, 1, 0)\n",
      "\n",
      "Check by decoding them:\n",
      "18\n"
     ]
    }
   ],
   "source": [
    "# Test it out with 5 and 13:\n",
    "# firstly, encode 5 and then 13 into variables x and y:\n",
    "x = encode(5)\n",
    "y = encode(13)\n",
    "# now add them together:\n",
    "val = add(x,y)\n",
    "print('Binary number for 5 + 13:')\n",
    "print(val)\n",
    "print('\\nCheck by decoding them:')\n",
    "print(decode(val))"
   ]
  },
  {
   "cell_type": "code",
   "execution_count": 22,
   "metadata": {
    "colab": {
     "base_uri": "https://localhost:8080/"
    },
    "executionInfo": {
     "elapsed": 431,
     "status": "ok",
     "timestamp": 1689470890898,
     "user": {
      "displayName": "the m7",
      "userId": "10965310154478239678"
     },
     "user_tz": -345
    },
    "id": "urz6y3AAlHV-",
    "outputId": "c0296cbd-7be6-41d5-bb38-48809bfe414c"
   },
   "outputs": [
    {
     "name": "stdout",
     "output_type": "stream",
     "text": [
      "Binary number for 5 - 13\n",
      "(0, 0, 0, 0, 1, 0, 0, 0)\n",
      "\n",
      "Check by decoding them: \n",
      "8\n"
     ]
    }
   ],
   "source": [
    "# Try subtracting 5 from 13 and check that the result is 8:\n",
    "x = encode(5)\n",
    "y = encode(13)\n",
    "val = subtract(y,x)\n",
    "print('Binary number for 5 - 13')\n",
    "print(val)\n",
    "print('\\nCheck by decoding them: ')\n",
    "print(decode(val))"
   ]
  },
  {
   "cell_type": "markdown",
   "metadata": {
    "id": "FT5AsR5tlkok"
   },
   "source": [
    "This is the end of your first workbook for Data Structures and Algorithms. Make sure you add comments and text boxes in to show what you've done and why. Then save the file or download by clicking 'file' and 'download .ipynb'."
   ]
  }
 ],
 "metadata": {
  "colab": {
   "provenance": []
  },
  "kernelspec": {
   "display_name": "Python 3 (ipykernel)",
   "language": "python",
   "name": "python3"
  },
  "language_info": {
   "codemirror_mode": {
    "name": "ipython",
    "version": 3
   },
   "file_extension": ".py",
   "mimetype": "text/x-python",
   "name": "python",
   "nbconvert_exporter": "python",
   "pygments_lexer": "ipython3",
   "version": "3.11.4"
  }
 },
 "nbformat": 4,
 "nbformat_minor": 1
}

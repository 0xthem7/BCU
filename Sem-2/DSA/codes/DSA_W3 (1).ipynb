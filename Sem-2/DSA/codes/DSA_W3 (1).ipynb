{
  "nbformat": 4,
  "nbformat_minor": 0,
  "metadata": {
    "colab": {
      "provenance": [],
      "collapsed_sections": [
        "v7GLUVYUW9Ls"
      ]
    },
    "kernelspec": {
      "name": "python3",
      "display_name": "Python 3"
    }
  },
  "cells": [
    {
      "cell_type": "markdown",
      "metadata": {
        "id": "v7GLUVYUW9Ls"
      },
      "source": [
        "# Data Structures and Algorithms W3 Lab 1\n",
        "Geometric Data and Memory\n"
      ]
    },
    {
      "cell_type": "markdown",
      "metadata": {
        "id": "eq6iskyTYErk"
      },
      "source": [
        "# Geometric Data\n",
        "Below are activities and functions based on using the circle, rectangle and polygon codes of the shapes from the presentations (video shown here for reference)."
      ]
    },
    {
      "cell_type": "code",
      "metadata": {
        "colab": {
          "base_uri": "https://localhost:8080/",
          "height": 381
        },
        "id": "jprnfq0TX9gX",
        "outputId": "fc278e42-161d-40e1-8917-4aae7b8eb966"
      },
      "source": [
        "from IPython.display import HTML\n",
        "HTML(\"\"\"\n",
        "<video width=\"320\" height=\"240\" controls>\n",
        "  <source src=\"https://web.microsoftstream.com/video/8413497a-2aff-46f7-828b-4b7e2d5ff2c1\" type=\"video/mp4\">\n",
        "</video>\n",
        "\"\"\")\n",
        "HTML(\"\"\"\n",
        "<iframe width=\"640\" height=\"360\" src=\"https://web.microsoftstream.com/embed/video/8413497a-2aff-46f7-828b-4b7e2d5ff2c1?autoplay=false&amp;showinfo=true&amp;st=210\" allowfullscreen style=\"border:none;\"></iframe>\n",
        "\"\"\")"
      ],
      "execution_count": null,
      "outputs": [
        {
          "output_type": "execute_result",
          "data": {
            "text/plain": [
              "<IPython.core.display.HTML object>"
            ],
            "text/html": [
              "\n",
              "<iframe width=\"640\" height=\"360\" src=\"https://web.microsoftstream.com/embed/video/8413497a-2aff-46f7-828b-4b7e2d5ff2c1?autoplay=false&amp;showinfo=true&amp;st=210\" allowfullscreen style=\"border:none;\"></iframe>\n"
            ]
          },
          "metadata": {},
          "execution_count": 11
        }
      ]
    },
    {
      "cell_type": "code",
      "metadata": {
        "id": "14J6zU8PVTGn"
      },
      "source": [
        "class Point:\n",
        "    def __init__(self, x, y):\n",
        "        self.x = x\n",
        "        self.y = y\n",
        "    def __repr__(self):\n",
        "        fmt = 'Point({!r}, {!r})'\n",
        "        return fmt.format(self.x, self.y)"
      ],
      "execution_count": 1,
      "outputs": []
    },
    {
      "cell_type": "code",
      "metadata": {
        "colab": {
          "base_uri": "https://localhost:8080/"
        },
        "id": "qXdV6OlGVWZ7",
        "outputId": "c3b3a090-e717-4a1b-c017-0d17b3aefd40"
      },
      "source": [
        "p1 = Point(3,2)\n",
        "print(p1)\n",
        "print(p1.x)"
      ],
      "execution_count": 3,
      "outputs": [
        {
          "output_type": "stream",
          "name": "stdout",
          "text": [
            "Point(3, 2)\n",
            "3\n"
          ]
        }
      ]
    },
    {
      "cell_type": "markdown",
      "metadata": {
        "id": "_g4O047ithmn"
      },
      "source": [
        "Create a point p2 at x=5,y=4."
      ]
    },
    {
      "cell_type": "code",
      "metadata": {
        "id": "TUCHHMcZtpjB"
      },
      "source": [
        "# Write your code here\n",
        "p2 = Point(5,4)"
      ],
      "execution_count": 4,
      "outputs": []
    },
    {
      "cell_type": "markdown",
      "metadata": {
        "id": "xbI5f20XsFsV"
      },
      "source": [
        "The class for a Vector is shown below which has addition and scale operations. Add in a function to perform Vector subtraction."
      ]
    },
    {
      "cell_type": "code",
      "metadata": {
        "id": "bMTo20n4Va64"
      },
      "source": [
        "class Vector:\n",
        "    def __init__(self, x, y):\n",
        "        self.x = x\n",
        "        self.y = y\n",
        "    def __repr__(self):\n",
        "        fmt = 'Vector({!r}, {!r})'\n",
        "        return fmt.format(self.x, self.y)\n",
        "\n",
        "    def add(self, other):\n",
        "        return Vector(self.x + other.x, self.y + other.y)\n",
        "\n",
        "    def scale(self, scalar):\n",
        "        return Vector(scalar * self.x, scalar * self.y)\n"
      ],
      "execution_count": 6,
      "outputs": []
    },
    {
      "cell_type": "markdown",
      "metadata": {
        "id": "Q18FhfU2t_xD"
      },
      "source": [
        "Write code to add and subtract p1 and p2 and then scale p1 by 3."
      ]
    },
    {
      "cell_type": "code",
      "metadata": {
        "id": "2XUYeCdfuAb0"
      },
      "source": [
        "# Write your code here"
      ],
      "execution_count": null,
      "outputs": []
    },
    {
      "cell_type": "markdown",
      "metadata": {
        "id": "HNZaA78DuRDp"
      },
      "source": [
        "The code to create the Rectangle class is below, but it requires an additional function to see if a point is contained within the rectangle:"
      ]
    },
    {
      "cell_type": "code",
      "metadata": {
        "id": "xnRnR0yjscrf"
      },
      "source": [
        "class Rectangle:\n",
        "    def __init__(self, p1, p2):\n",
        "        self.p1 = p1\n",
        "        self.p2 = p2\n",
        "    def __repr__(self):\n",
        "        fmt = 'Rectangle({!r}, {!r})'\n",
        "        return fmt.format(self.p1, self.p2)\n"
      ],
      "execution_count": 7,
      "outputs": []
    },
    {
      "cell_type": "markdown",
      "metadata": {
        "id": "BXdz6QKVupgi"
      },
      "source": [
        "This code creates a rectangle R and then shows that the point (4,3) is within the boundary of the rectangle. Create a point that is outside of the rectangle."
      ]
    },
    {
      "cell_type": "code",
      "metadata": {
        "colab": {
          "base_uri": "https://localhost:8080/",
          "height": 329
        },
        "id": "dJraa6GpuaQo",
        "outputId": "42d5fa8d-a563-4b1b-fc98-45af3e8b8ac2"
      },
      "source": [
        "R = Rectangle(p1,p2)\n",
        "print('\\nSet up Rectangle(p1,p2):\\n')\n",
        "print(R)\n",
        "\n",
        "\n",
        "print('\\nCheck if (4,3) is within Rectangle R:\\n')\n",
        "p3 = Point(4,3)\n",
        "print(Rectangle.contains(R,p3))\n"
      ],
      "execution_count": 8,
      "outputs": [
        {
          "output_type": "stream",
          "name": "stdout",
          "text": [
            "\n",
            "Set up Rectangle(p1,p2):\n",
            "\n",
            "Rectangle(Point(3, 2), Point(5, 4))\n",
            "\n",
            "Check if (4,3) is within Rectangle R:\n",
            "\n"
          ]
        },
        {
          "output_type": "error",
          "ename": "AttributeError",
          "evalue": "ignored",
          "traceback": [
            "\u001b[0;31m---------------------------------------------------------------------------\u001b[0m",
            "\u001b[0;31mAttributeError\u001b[0m                            Traceback (most recent call last)",
            "\u001b[0;32m<ipython-input-8-661636c980e9>\u001b[0m in \u001b[0;36m<cell line: 8>\u001b[0;34m()\u001b[0m\n\u001b[1;32m      6\u001b[0m \u001b[0mprint\u001b[0m\u001b[0;34m(\u001b[0m\u001b[0;34m'\\nCheck if (4,3) is within Rectangle R:\\n'\u001b[0m\u001b[0;34m)\u001b[0m\u001b[0;34m\u001b[0m\u001b[0;34m\u001b[0m\u001b[0m\n\u001b[1;32m      7\u001b[0m \u001b[0mp3\u001b[0m \u001b[0;34m=\u001b[0m \u001b[0mPoint\u001b[0m\u001b[0;34m(\u001b[0m\u001b[0;36m4\u001b[0m\u001b[0;34m,\u001b[0m\u001b[0;36m3\u001b[0m\u001b[0;34m)\u001b[0m\u001b[0;34m\u001b[0m\u001b[0;34m\u001b[0m\u001b[0m\n\u001b[0;32m----> 8\u001b[0;31m \u001b[0mprint\u001b[0m\u001b[0;34m(\u001b[0m\u001b[0mRectangle\u001b[0m\u001b[0;34m.\u001b[0m\u001b[0mcontains\u001b[0m\u001b[0;34m(\u001b[0m\u001b[0mR\u001b[0m\u001b[0;34m,\u001b[0m\u001b[0mp3\u001b[0m\u001b[0;34m)\u001b[0m\u001b[0;34m)\u001b[0m\u001b[0;34m\u001b[0m\u001b[0;34m\u001b[0m\u001b[0m\n\u001b[0m",
            "\u001b[0;31mAttributeError\u001b[0m: type object 'Rectangle' has no attribute 'contains'"
          ]
        }
      ]
    },
    {
      "cell_type": "code",
      "metadata": {
        "id": "mMzht1IasmI_"
      },
      "source": [
        "# Creating and checking with circles\n",
        "class Circle:\n",
        "    def __init__(self,c,r):\n",
        "        self.c = c\n",
        "        self.r = r\n",
        "    def __repr__(self):\n",
        "        fmt = 'Circle(centre: {!r}, radius: {!r})'\n",
        "        return fmt.format(self.c, self.r)\n",
        "    def contains(self,p1):\n",
        "        return (((Vector.subtract(self.c,p1).x**2 + Vector.subtract(self.c,p1).y**2))**(0.5)<=self.r)"
      ],
      "execution_count": null,
      "outputs": []
    },
    {
      "cell_type": "markdown",
      "metadata": {
        "id": "V41Lvw7cs3qt"
      },
      "source": [
        "Create a circle using the variable C with centre at (1,2) and radius 3. Then create 5 different points, p1-p5 where 2 are within the circle and 3 are outside the circle."
      ]
    },
    {
      "cell_type": "code",
      "metadata": {
        "id": "jqlewYQjtPjw"
      },
      "source": [
        "# Write your code here"
      ],
      "execution_count": null,
      "outputs": []
    },
    {
      "cell_type": "markdown",
      "metadata": {
        "id": "stl6dFzavyCP"
      },
      "source": [
        "Next let's look at a general Polygon and contains function. Don't worry about how the code works, it relies on Numpy imported as np and uses maths to solve the problem, but see that the points of the edges from the Polygon are listed in the array p with a new point listed in r tested against it."
      ]
    },
    {
      "cell_type": "code",
      "metadata": {
        "id": "57jmNy9hv-TO"
      },
      "source": [
        "import numpy as np\n",
        "\n",
        "def contains(P,R):\n",
        "\n",
        "    intercepts = 0\n",
        "\n",
        "    r_origin = R\n",
        "    r_end = np.array([np.max(P[:,0])+30,np.max(P[:,1])+30])\n",
        "    r_direction = r_end - r_origin\n",
        "\n",
        "\n",
        "    for i in range(len(P)):\n",
        "        u_origin = P[i,:]\n",
        "        u_direction = P[(i+1)%len(P),:] - u_origin\n",
        "        Z = np.array([u_direction,-r_direction])\n",
        "        intercept_len = np.linalg.pinv(Z.T).dot(r_origin - u_origin)\n",
        "        if (((intercept_len[0]>0) & (intercept_len[0]<1)) and ((intercept_len[1]>0) & (intercept_len[1]<1))) == 1:\n",
        "            intercepts += 1\n",
        "\n",
        "    if intercepts%2 == 1:\n",
        "        print('r is inside polygon p')\n",
        "    else:\n",
        "        print('r is outside polygon p')\n",
        "\n",
        "p = np.array(([80,150],[100,40],[140,170],[250,60],[320,150],[250,130],[110,250]))\n",
        "r = np.array([300,200])\n",
        "contains(p,r)"
      ],
      "execution_count": null,
      "outputs": []
    },
    {
      "cell_type": "code",
      "metadata": {
        "id": "H1t6aodPi5Da"
      },
      "source": [
        "import matplotlib.pyplot as plt\n",
        "\n",
        "plt.plot([p[i % 7][0] for i in range(8)], [p[i % 7][1] for i in range(8)], 'xb-');\n",
        "plt.plot(r[0],r[1],'r*')\n",
        "plt.show()\n"
      ],
      "execution_count": null,
      "outputs": []
    },
    {
      "cell_type": "markdown",
      "metadata": {
        "id": "fn-6mrFBsmwU"
      },
      "source": [
        "# Full code for classes and functions"
      ]
    },
    {
      "cell_type": "code",
      "metadata": {
        "id": "qH6Pk0l5sm-F"
      },
      "source": [
        "# Vector operations\n",
        "class Vector:\n",
        "    def __init__(self, x, y):\n",
        "        self.x = x\n",
        "        self.y = y\n",
        "    def __repr__(self):\n",
        "        fmt = 'Vector({!r}, {!r})'\n",
        "        return fmt.format(self.x, self.y)\n",
        "\n",
        "    def add(self, other):\n",
        "        return Vector(self.x + other.x, self.y + other.y)\n",
        "\n",
        "    def subtract(self, other):\n",
        "       \treturn Vector(self.x - other.x, self.y - other.y)\n",
        "    def scale(self, scalar):\n",
        "      return Vector(scalar * self.x, scalar * self.y)\n",
        "\n",
        "class Rectangle:\n",
        "    def __init__(self, p1, p2):\n",
        "        self.p1 = p1\n",
        "        self.p2 = p2\n",
        "    def __repr__(self):\n",
        "        fmt = 'Rectangle({!r}, {!r})'\n",
        "        return fmt.format(self.p1, self.p2)\n",
        "    def contains(self, point):\n",
        "        return (self.p1.x <= point.x and point.x <= self.p2.x) and (self.p1.y <= point.y and point.y <= self.p2.y)\n",
        "\n",
        "\n",
        "p1 = Point(3,2)\n",
        "print('Set up p1:\\n')\n",
        "print(p1)\n",
        "\n",
        "p2 = Point(5,4)\n",
        "print('\\nSet up p2:\\n')\n",
        "print(p2)\n",
        "\n",
        "print('\\nAddition of p1 and p2:\\n')\n",
        "print(Vector.add(p1,p2))\n",
        "print('\\nSubtraction of p2 from p1:\\n')\n",
        "print(Vector.subtract(p1,p2))\n",
        "print('\\nScaling of p1 by factor 3:\\n')\n",
        "print(Vector.scale(p1,3))\n",
        "\n",
        "R = Rectangle(p1,p2)\n",
        "print('\\nSet up Rectangle(p1,p2):\\n')\n",
        "print(R)\n",
        "\n",
        "print('\\nCheck if (4,3) is within Rectangle R:\\n')\n",
        "p3 = Point(4,3)\n",
        "print(Rectangle.contains(R,p3))\n",
        "print('\\nCheck if (6,3) is within Rectangle R:\\n')\n",
        "p4 = Point(6,3)\n",
        "print(Rectangle.contains(R,p4))\n",
        "\n",
        "print('\\nSet up Circle(p1,4):\\n')\n",
        "C = Circle(p1,4)\n",
        "print(C)\n",
        "print('\\nCheck if (4,2) is within Circle C:\\n')\n",
        "print(Circle.contains(C,Point(4,2)))\n",
        "print('\\nCheck if (8,2) is within Circle C:\\n')\n",
        "print(Circle.contains(C,Point(8,2)))"
      ],
      "execution_count": null,
      "outputs": []
    },
    {
      "cell_type": "markdown",
      "metadata": {
        "id": "lwiYx4qVwy4d"
      },
      "source": [
        "# Copy Functions\n",
        "\n",
        "First let's look at Shallow copy peculariaties. [:] in list notation denotes a shallow copy, but only to every exising memory entry. If you add another entry this won't be included in both variables:"
      ]
    },
    {
      "cell_type": "code",
      "metadata": {
        "id": "Fxb3vCd9xTI_"
      },
      "source": [
        "a = [[1, 2], [2, 4]]\n",
        "b = a[:]\n",
        "b[0].append(3)\n",
        "print(b)\n",
        "print(a)"
      ],
      "execution_count": null,
      "outputs": []
    },
    {
      "cell_type": "markdown",
      "metadata": {
        "id": "K4qbrrPSxhyl"
      },
      "source": [
        "So the result is the same when we alter b[0]. What about adding information at the end of b:"
      ]
    },
    {
      "cell_type": "code",
      "metadata": {
        "id": "HAXqbPK_w49O"
      },
      "source": [
        "a = [[1, 2], [2, 4]]\n",
        "b = a[:]\n",
        "b.append([3,6])\n",
        "print(b)\n",
        "print(a)"
      ],
      "execution_count": null,
      "outputs": []
    },
    {
      "cell_type": "markdown",
      "metadata": {
        "id": "Bh5bK4yrxygl"
      },
      "source": [
        "Now let's use a deepcopy to avoid this problem:"
      ]
    },
    {
      "cell_type": "code",
      "metadata": {
        "id": "ZiHkgBdaxJTn"
      },
      "source": [
        "import copy\n",
        "a = [[1, 2], [2, 4]]\n",
        "b = copy.deepcopy(a)\n",
        "b[0].append(3)\n",
        "print(b)\n",
        "print(a)"
      ],
      "execution_count": null,
      "outputs": []
    },
    {
      "cell_type": "markdown",
      "metadata": {
        "id": "MQ52VFm8x9fF"
      },
      "source": [
        "Next we'll look at Box and Pointer diagrams."
      ]
    },
    {
      "cell_type": "code",
      "metadata": {
        "id": "-sPrHoeRyBv5"
      },
      "source": [],
      "execution_count": null,
      "outputs": []
    }
  ]
}